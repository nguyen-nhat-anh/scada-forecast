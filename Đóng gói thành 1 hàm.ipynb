{
 "cells": [
  {
   "cell_type": "code",
   "execution_count": 1,
   "metadata": {},
   "outputs": [],
   "source": [
    "import argparse\n",
    "import numpy as np\n",
    "import tensorflow as tf\n",
    "\n",
    "from scada_forecast.preprocess import read_humidity, read_temperature, read_scada\n",
    "from scada_forecast.preprocess import merge_dataframes, add_calendar_features, prepare_data\n",
    "\n",
    "from scada_forecast.model import create_model, train_model, inference\n",
    "\n",
    "tf.compat.v1.logging.set_verbosity(tf.compat.v1.logging.ERROR)"
   ]
  },
  {
   "cell_type": "code",
   "execution_count": 2,
   "metadata": {},
   "outputs": [],
   "source": [
    "def hourahead(task, \n",
    "              scada_path='data/scada/Dữ liệu SCADA Phụ tải 26.08.2020.xlsx', \n",
    "              use_humidity=True,\n",
    "              humidity_path='data/scada/DoAm.xlsx', \n",
    "              use_temperature=True, \n",
    "              temperature_path='data/NhietDoQuaKhu.xlsx', \n",
    "              use_lunar=True, use_holiday=False, \n",
    "              n_val=100 * 24 * 12, n_test=100 * 24 * 12, \n",
    "              ckpt_path='tmp/ckpt'):\n",
    "    df_humidity = None\n",
    "    df_temperature = None\n",
    "    df_scada = None\n",
    "    hour_steps = int(60 / 5)\n",
    "    input_width = hour_steps\n",
    "    categorical_unique_values_dict = {\n",
    "        'Month': list(range(1, 12 + 1)),\n",
    "        'DayOfYear': list(range(1, 365 + 1)),\n",
    "        'DayOfWeek': list(range(7)),\n",
    "        'Hour': list(range(24)),\n",
    "        'LunarMonth': list(range(1, 12 + 1)),\n",
    "        'LunarDayOfMonth': list(range(1, 30 + 1)),\n",
    "        'HolidayCat': list(range(12))\n",
    "    }\n",
    "    \n",
    "    # TIEN XU LY\n",
    "    print('Doc du lieu scada...')\n",
    "    df_scada = read_scada(scada_path)\n",
    "    \n",
    "    if use_humidity:\n",
    "        print('Doc du lieu do am...')\n",
    "        df_humidity = read_humidity(humidity_path)\n",
    "    if use_temperature:\n",
    "        print('Doc du lieu nhiet do...')\n",
    "        df_temperature = read_temperature(temperature_path)\n",
    "        \n",
    "    df = merge_dataframes(df_scada, df_temp=df_temperature, df_humidity=df_humidity)\n",
    "    print('Them cac feature thoi gian (gio, thu, ngay, thang)...')\n",
    "    df = add_calendar_features(df, use_lunar=use_lunar, use_holiday=use_holiday)\n",
    "    \n",
    "    print('Chuan bi du lieu cho mo hinh...')\n",
    "    df, features_dict, categorical_cols, numeric_cols, target_col = prepare_data(df, \n",
    "                                                                                 hour_steps=hour_steps, \n",
    "                                                                                 use_temp=use_temperature, \n",
    "                                                                                 use_humidity=use_humidity, \n",
    "                                                                                 use_lunar=use_lunar,\n",
    "                                                                                 use_holiday=use_holiday)\n",
    "    \n",
    "    dtype_dict = {col: df[col].dtype for col in categorical_cols + numeric_cols}\n",
    "    chosen_features = (features_dict['calendar_features'] + features_dict['lag_features'] + \n",
    "                       features_dict['temperature_features'] + features_dict['humidity_features'])\n",
    "    \n",
    "    # TRAIN MO HINH\n",
    "    if task == 'train':\n",
    "        print('Training...')\n",
    "        train_model(df, input_width, n_val, n_test, hour_steps,\n",
    "                    dtype_dict, categorical_unique_values_dict, \n",
    "                    chosen_features, categorical_cols, \n",
    "                    numeric_cols, target_col, ckpt_path)\n",
    "        print('Hoan thanh.')\n",
    "        \n",
    "    # DU BAO\n",
    "    if task == 'inference':\n",
    "        print('Inference...')\n",
    "        forecast_df = inference(df, input_width, n_test, hour_steps, ckpt_path,\n",
    "                                dtype_dict, categorical_unique_values_dict, \n",
    "                                chosen_features, categorical_cols, numeric_cols, target_col)\n",
    "        print(forecast_df)\n",
    "        return forecast_df"
   ]
  },
  {
   "cell_type": "code",
   "execution_count": 3,
   "metadata": {},
   "outputs": [
    {
     "name": "stdout",
     "output_type": "stream",
     "text": [
      "Doc du lieu scada...\n",
      "Doc du lieu do am...\n",
      "Doc du lieu nhiet do...\n",
      "Them cac feature thoi gian (gio, thu, ngay, thang)...\n"
     ]
    },
    {
     "name": "stderr",
     "output_type": "stream",
     "text": [
      "F:\\Anaconda3\\envs\\new_sklearn\\lib\\site-packages\\tqdm\\std.py:668: FutureWarning: The Panel class is removed from pandas. Accessing it from the top-level namespace will also be removed in the next version\n",
      "  from pandas import Panel\n"
     ]
    },
    {
     "data": {
      "application/vnd.jupyter.widget-view+json": {
       "model_id": "46ba5fd6f31149ae8e4b4508f0164102",
       "version_major": 2,
       "version_minor": 0
      },
      "text/plain": [
       "HBox(children=(FloatProgress(value=0.0, max=148897.0), HTML(value='')))"
      ]
     },
     "metadata": {},
     "output_type": "display_data"
    },
    {
     "name": "stdout",
     "output_type": "stream",
     "text": [
      "\n",
      "Chuan bi du lieu cho mo hinh...\n",
      "Inference...\n"
     ]
    },
    {
     "name": "stderr",
     "output_type": "stream",
     "text": [
      "F:\\Anaconda3\\envs\\new_sklearn\\lib\\site-packages\\tensorflow\\python\\keras\\engine\\functional.py:543: UserWarning: Input dict contained keys ['LogLoad'] which did not match any model input. They will be ignored by the model.\n",
      "  [n for n in tensors.keys() if n not in ref_input_names])\n"
     ]
    },
    {
     "name": "stdout",
     "output_type": "stream",
     "text": [
      "                         Forecast\n",
      "2020-02-22 00:05:00  23492.824219\n",
      "2020-02-22 00:10:00  23607.882812\n",
      "2020-02-22 00:15:00  23294.312500\n",
      "2020-02-22 00:20:00  23360.541016\n",
      "2020-02-22 00:25:00  23312.646484\n",
      "...                           ...\n",
      "2020-05-31 23:40:00  27212.208984\n",
      "2020-05-31 23:45:00  26990.041016\n",
      "2020-05-31 23:50:00  26818.083984\n",
      "2020-05-31 23:55:00  26602.177734\n",
      "2020-06-01 00:00:00  26518.613281\n",
      "\n",
      "[28800 rows x 1 columns]\n"
     ]
    }
   ],
   "source": [
    "forecast_df = hourahead(task='inference', \n",
    "                        scada_path='data/scada/Dữ liệu SCADA Phụ tải 26.08.2020.xlsx', \n",
    "                        use_humidity=True,\n",
    "                        humidity_path='data/scada/DoAm.xlsx', \n",
    "                        use_temperature=True, \n",
    "                        temperature_path='data/NhietDoQuaKhu.xlsx', \n",
    "                        use_lunar=True, use_holiday=False, \n",
    "                        n_val=100 * 24 * 12, n_test=100 * 24 * 12, \n",
    "                        ckpt_path='tmp/ckpt')"
   ]
  },
  {
   "cell_type": "code",
   "execution_count": 4,
   "metadata": {},
   "outputs": [
    {
     "data": {
      "text/html": [
       "<div>\n",
       "<style scoped>\n",
       "    .dataframe tbody tr th:only-of-type {\n",
       "        vertical-align: middle;\n",
       "    }\n",
       "\n",
       "    .dataframe tbody tr th {\n",
       "        vertical-align: top;\n",
       "    }\n",
       "\n",
       "    .dataframe thead th {\n",
       "        text-align: right;\n",
       "    }\n",
       "</style>\n",
       "<table border=\"1\" class=\"dataframe\">\n",
       "  <thead>\n",
       "    <tr style=\"text-align: right;\">\n",
       "      <th></th>\n",
       "      <th>Forecast</th>\n",
       "    </tr>\n",
       "  </thead>\n",
       "  <tbody>\n",
       "    <tr>\n",
       "      <th>2020-02-22 00:05:00</th>\n",
       "      <td>23492.824219</td>\n",
       "    </tr>\n",
       "    <tr>\n",
       "      <th>2020-02-22 00:10:00</th>\n",
       "      <td>23607.882812</td>\n",
       "    </tr>\n",
       "    <tr>\n",
       "      <th>2020-02-22 00:15:00</th>\n",
       "      <td>23294.312500</td>\n",
       "    </tr>\n",
       "    <tr>\n",
       "      <th>2020-02-22 00:20:00</th>\n",
       "      <td>23360.541016</td>\n",
       "    </tr>\n",
       "    <tr>\n",
       "      <th>2020-02-22 00:25:00</th>\n",
       "      <td>23312.646484</td>\n",
       "    </tr>\n",
       "    <tr>\n",
       "      <th>...</th>\n",
       "      <td>...</td>\n",
       "    </tr>\n",
       "    <tr>\n",
       "      <th>2020-05-31 23:40:00</th>\n",
       "      <td>27212.208984</td>\n",
       "    </tr>\n",
       "    <tr>\n",
       "      <th>2020-05-31 23:45:00</th>\n",
       "      <td>26990.041016</td>\n",
       "    </tr>\n",
       "    <tr>\n",
       "      <th>2020-05-31 23:50:00</th>\n",
       "      <td>26818.083984</td>\n",
       "    </tr>\n",
       "    <tr>\n",
       "      <th>2020-05-31 23:55:00</th>\n",
       "      <td>26602.177734</td>\n",
       "    </tr>\n",
       "    <tr>\n",
       "      <th>2020-06-01 00:00:00</th>\n",
       "      <td>26518.613281</td>\n",
       "    </tr>\n",
       "  </tbody>\n",
       "</table>\n",
       "<p>28800 rows × 1 columns</p>\n",
       "</div>"
      ],
      "text/plain": [
       "                         Forecast\n",
       "2020-02-22 00:05:00  23492.824219\n",
       "2020-02-22 00:10:00  23607.882812\n",
       "2020-02-22 00:15:00  23294.312500\n",
       "2020-02-22 00:20:00  23360.541016\n",
       "2020-02-22 00:25:00  23312.646484\n",
       "...                           ...\n",
       "2020-05-31 23:40:00  27212.208984\n",
       "2020-05-31 23:45:00  26990.041016\n",
       "2020-05-31 23:50:00  26818.083984\n",
       "2020-05-31 23:55:00  26602.177734\n",
       "2020-06-01 00:00:00  26518.613281\n",
       "\n",
       "[28800 rows x 1 columns]"
      ]
     },
     "execution_count": 4,
     "metadata": {},
     "output_type": "execute_result"
    }
   ],
   "source": [
    "forecast_df"
   ]
  }
 ],
 "metadata": {
  "kernelspec": {
   "display_name": "Python 3",
   "language": "python",
   "name": "python3"
  },
  "language_info": {
   "codemirror_mode": {
    "name": "ipython",
    "version": 3
   },
   "file_extension": ".py",
   "mimetype": "text/x-python",
   "name": "python",
   "nbconvert_exporter": "python",
   "pygments_lexer": "ipython3",
   "version": "3.7.3"
  }
 },
 "nbformat": 4,
 "nbformat_minor": 4
}
