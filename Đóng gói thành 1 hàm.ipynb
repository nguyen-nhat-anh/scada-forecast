{
 "cells": [
  {
   "cell_type": "code",
   "execution_count": 1,
   "metadata": {},
   "outputs": [],
   "source": [
    "import argparse\n",
    "import numpy as np\n",
    "import tensorflow as tf\n",
    "\n",
    "from scada_forecast.preprocess import read_humidity, read_temperature, read_scada\n",
    "from scada_forecast.preprocess import get_lag_features, merge_dataframes, add_calendar_features, prepare_data\n",
    "\n",
    "from scada_forecast.model import train_model, inference\n",
    "\n",
    "tf.compat.v1.logging.set_verbosity(tf.compat.v1.logging.ERROR)"
   ]
  },
  {
   "cell_type": "code",
   "execution_count": 2,
   "metadata": {},
   "outputs": [],
   "source": [
    "def hourahead(task, \n",
    "              scada_path='data/scada/Dữ liệu SCADA Phụ tải 26.08.2020.xlsx', \n",
    "              scada_sheet='SCADA_QGia',\n",
    "              use_humidity=True,\n",
    "              humidity_path='data/scada/DoAm.xlsx', \n",
    "              use_temperature=True, \n",
    "              temperature_path='data/NhietDoQuaKhu.xlsx', \n",
    "              use_lunar=True, use_holiday=False, \n",
    "              n_val=100 * 24 * 12, n_test=100 * 24 * 12, # train only\n",
    "              forecast_horizon=4, # inference only\n",
    "              ckpt_path='tmp/ckpt'):\n",
    "    \"\"\"\n",
    "    Dự báo phụ tải SCADA trước 1 giờ\n",
    "    Args:\n",
    "        task: str - 'train'-> train mô hình, 'inference' -> dự báo\n",
    "        scada_path: str - đường dẫn file excel scada\n",
    "        scada_sheet: str - chọn sheet cho file excel scada\n",
    "        use_humidity: bool - có sử dụng dữ liệu độ ẩm hay không\n",
    "        humidity_path: str - đường dẫn file excel độ ẩm\n",
    "        use_temperature: bool- có sử dụng dữ liệu nhiệt độ hay không\n",
    "        temperature_path: str - đường dẫn file excel nhiệt độ\n",
    "        use_lunar: bool - có sử dụng các feature âm lịch hay không\n",
    "        use_holiday: bool - có sử dụng các feature ngày nghỉ lễ hay không\n",
    "        n_val: int - số điểm dữ liệu dùng cho tập validation (default 100 ngày) (dùng cho task='train')\n",
    "        n_test: int - số điểm dữ liệu dùng cho tập test (default 100 ngày cuối) (dùng cho task='train')\n",
    "        forecast_horizon: int - số điểm dự báo (bắt đầu từ thời điểm sau 1h đổ về trước) \n",
    "                                (default chỉ dự báo tại 1 thời điểm sau 1h) (dùng cho task='inference')\n",
    "        ckpt_path: str - đường dẫn lưu model\n",
    "    Returns:\n",
    "        pandas.DataFrame lưu kết quả dự báo\n",
    "    \"\"\"\n",
    "    df_humidity = None\n",
    "    df_temperature = None\n",
    "    df_scada = None\n",
    "    hour_steps = int(60 / 5)\n",
    "    input_width = hour_steps\n",
    "    categorical_unique_values_dict = {\n",
    "        'Month': list(range(1, 12 + 1)),\n",
    "        'DayOfYear': list(range(1, 365 + 1)),\n",
    "        'DayOfWeek': list(range(7)),\n",
    "        'Hour': list(range(24)),\n",
    "        'LunarMonth': list(range(1, 12 + 1)),\n",
    "        'LunarDayOfMonth': list(range(1, 30 + 1)),\n",
    "        'HolidayCat': list(range(12))\n",
    "    }\n",
    "    \n",
    "    # TIEN XU LY\n",
    "    print('Doc du lieu scada...')\n",
    "    df_scada = read_scada(scada_path, sheet_name=scada_sheet)\n",
    "    if task == 'train':\n",
    "        df_scada = get_lag_features(df_scada, hour_steps, clip_df=False)\n",
    "    if task == 'inference':\n",
    "        df_scada = get_lag_features(df_scada, hour_steps, clip_df=True, \n",
    "                                    input_width=input_width, forecast_horizon=forecast_horizon)\n",
    "    \n",
    "    if use_humidity:\n",
    "        print('Doc du lieu do am...')\n",
    "        df_humidity = read_humidity(humidity_path)\n",
    "    if use_temperature:\n",
    "        print('Doc du lieu nhiet do...')\n",
    "        df_temperature = read_temperature(temperature_path)\n",
    "        \n",
    "    df = merge_dataframes(df_scada, df_temp=df_temperature, df_humidity=df_humidity)\n",
    "    print('Them cac feature thoi gian (gio, thu, ngay, thang)...')\n",
    "    df = add_calendar_features(df, use_lunar=use_lunar, use_holiday=use_holiday)\n",
    "    \n",
    "    print('Chuan bi du lieu cho mo hinh...')\n",
    "    df, features_dict, categorical_cols, numeric_cols, target_col = prepare_data(df, \n",
    "                                                                                 train_flag=(task=='train'),\n",
    "                                                                                 use_temp=use_temperature, \n",
    "                                                                                 use_humidity=use_humidity, \n",
    "                                                                                 use_lunar=use_lunar,\n",
    "                                                                                 use_holiday=use_holiday)\n",
    "    \n",
    "    dtype_dict = {col: df[col].dtype for col in categorical_cols + numeric_cols}\n",
    "    chosen_features = (features_dict['calendar_features'] + features_dict['lag_features'] + \n",
    "                       features_dict['temperature_features'] + features_dict['humidity_features'])\n",
    "    \n",
    "    # TRAIN MO HINH\n",
    "    if task == 'train':\n",
    "        print('Training...')\n",
    "        train_model(df, input_width, n_val, n_test, hour_steps,\n",
    "                    dtype_dict, categorical_unique_values_dict, \n",
    "                    chosen_features, categorical_cols, \n",
    "                    numeric_cols, target_col, ckpt_path)\n",
    "        print('Hoan thanh.')\n",
    "        \n",
    "    # DU BAO\n",
    "    if task == 'inference':\n",
    "        print('Inference...')\n",
    "        forecast_df = inference(df, input_width, ckpt_path,\n",
    "                                dtype_dict, categorical_unique_values_dict, \n",
    "                                chosen_features, categorical_cols, numeric_cols)\n",
    "        print(forecast_df)\n",
    "        return forecast_df"
   ]
  },
  {
   "cell_type": "code",
   "execution_count": 3,
   "metadata": {},
   "outputs": [
    {
     "name": "stdout",
     "output_type": "stream",
     "text": [
      "Doc du lieu scada...\n",
      "Doc du lieu do am...\n",
      "Them cac feature thoi gian (gio, thu, ngay, thang)...\n"
     ]
    },
    {
     "name": "stderr",
     "output_type": "stream",
     "text": [
      "F:\\Anaconda3\\envs\\new_sklearn\\lib\\site-packages\\tqdm\\std.py:668: FutureWarning: The Panel class is removed from pandas. Accessing it from the top-level namespace will also be removed in the next version\n",
      "  from pandas import Panel\n"
     ]
    },
    {
     "data": {
      "application/vnd.jupyter.widget-view+json": {
       "model_id": "fed23f4524754d51991fddb4887d3ac1",
       "version_major": 2,
       "version_minor": 0
      },
      "text/plain": [
       "HBox(children=(FloatProgress(value=0.0, max=15.0), HTML(value='')))"
      ]
     },
     "metadata": {},
     "output_type": "display_data"
    },
    {
     "name": "stdout",
     "output_type": "stream",
     "text": [
      "\n",
      "Chuan bi du lieu cho mo hinh...\n",
      "Inference...\n",
      "                         Forecast\n",
      "Date                             \n",
      "2020-08-26 00:40:00  29083.449219\n",
      "2020-08-26 00:45:00  28938.640625\n",
      "2020-08-26 00:50:00  28899.009766\n",
      "2020-08-26 00:55:00  28735.078125\n"
     ]
    }
   ],
   "source": [
    "forecast_df = hourahead(task='inference',\n",
    "                        scada_path='data/scada/Dữ liệu SCADA Phụ tải 26.08.2020.xlsx', \n",
    "                        scada_sheet='SCADA_QGia',\n",
    "                        use_humidity=True,\n",
    "                        humidity_path='data/scada/DoAm.xlsx', \n",
    "                        use_temperature=False,\n",
    "                        use_lunar=True, use_holiday=False,\n",
    "                        forecast_horizon=4,\n",
    "                        ckpt_path='tmp/ckpt')"
   ]
  },
  {
   "cell_type": "code",
   "execution_count": 4,
   "metadata": {},
   "outputs": [
    {
     "data": {
      "text/html": [
       "<div>\n",
       "<style scoped>\n",
       "    .dataframe tbody tr th:only-of-type {\n",
       "        vertical-align: middle;\n",
       "    }\n",
       "\n",
       "    .dataframe tbody tr th {\n",
       "        vertical-align: top;\n",
       "    }\n",
       "\n",
       "    .dataframe thead th {\n",
       "        text-align: right;\n",
       "    }\n",
       "</style>\n",
       "<table border=\"1\" class=\"dataframe\">\n",
       "  <thead>\n",
       "    <tr style=\"text-align: right;\">\n",
       "      <th></th>\n",
       "      <th>Forecast</th>\n",
       "    </tr>\n",
       "    <tr>\n",
       "      <th>Date</th>\n",
       "      <th></th>\n",
       "    </tr>\n",
       "  </thead>\n",
       "  <tbody>\n",
       "    <tr>\n",
       "      <th>2020-08-26 00:40:00</th>\n",
       "      <td>29083.449219</td>\n",
       "    </tr>\n",
       "    <tr>\n",
       "      <th>2020-08-26 00:45:00</th>\n",
       "      <td>28938.640625</td>\n",
       "    </tr>\n",
       "    <tr>\n",
       "      <th>2020-08-26 00:50:00</th>\n",
       "      <td>28899.009766</td>\n",
       "    </tr>\n",
       "    <tr>\n",
       "      <th>2020-08-26 00:55:00</th>\n",
       "      <td>28735.078125</td>\n",
       "    </tr>\n",
       "  </tbody>\n",
       "</table>\n",
       "</div>"
      ],
      "text/plain": [
       "                         Forecast\n",
       "Date                             \n",
       "2020-08-26 00:40:00  29083.449219\n",
       "2020-08-26 00:45:00  28938.640625\n",
       "2020-08-26 00:50:00  28899.009766\n",
       "2020-08-26 00:55:00  28735.078125"
      ]
     },
     "execution_count": 4,
     "metadata": {},
     "output_type": "execute_result"
    }
   ],
   "source": [
    "forecast_df"
   ]
  }
 ],
 "metadata": {
  "kernelspec": {
   "display_name": "Python 3",
   "language": "python",
   "name": "python3"
  },
  "language_info": {
   "codemirror_mode": {
    "name": "ipython",
    "version": 3
   },
   "file_extension": ".py",
   "mimetype": "text/x-python",
   "name": "python",
   "nbconvert_exporter": "python",
   "pygments_lexer": "ipython3",
   "version": "3.7.3"
  }
 },
 "nbformat": 4,
 "nbformat_minor": 4
}
