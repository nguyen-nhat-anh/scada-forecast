{
 "cells": [
  {
   "cell_type": "code",
   "execution_count": 1,
   "metadata": {},
   "outputs": [],
   "source": [
    "import numpy as np\n",
    "import tensorflow as tf\n",
    "\n",
    "from scada_forecast.preprocess import read_humidity, read_temperature, read_scada\n",
    "from scada_forecast.preprocess import get_lag_features, merge_dataframes, add_calendar_features, prepare_data\n",
    "\n",
    "from scada_forecast.model import train_model, inference\n",
    "\n",
    "tf.compat.v1.logging.set_verbosity(tf.compat.v1.logging.ERROR)"
   ]
  },
  {
   "cell_type": "code",
   "execution_count": 2,
   "metadata": {},
   "outputs": [],
   "source": [
    "hour_steps = int(60 / 5)\n",
    "use_temp = False\n",
    "use_humidity = True\n",
    "use_lunar = True\n",
    "use_holiday = False"
   ]
  },
  {
   "cell_type": "markdown",
   "metadata": {},
   "source": [
    "## Train"
   ]
  },
  {
   "cell_type": "code",
   "execution_count": 3,
   "metadata": {},
   "outputs": [],
   "source": [
    "df_scada = read_scada('data/scada/Dữ liệu SCADA Phụ tải 26.08.2020.xlsx')\n",
    "df_scada = get_lag_features(df_scada, hour_steps, clip_df=False)\n",
    "\n",
    "df_humidity = None\n",
    "df_temperature = None\n",
    "\n",
    "if use_humidity:\n",
    "    df_humidity = read_humidity('data/scada/DoAm.xlsx')\n",
    "if use_temp:\n",
    "    df_temperature = read_temperature('data/NhietDoQuaKhu.xlsx')\n",
    "    \n",
    "df = merge_dataframes(df_scada, df_temperature, df_humidity)"
   ]
  },
  {
   "cell_type": "code",
   "execution_count": 4,
   "metadata": {},
   "outputs": [
    {
     "name": "stderr",
     "output_type": "stream",
     "text": [
      "F:\\Anaconda3\\envs\\new_sklearn\\lib\\site-packages\\tqdm\\std.py:668: FutureWarning: The Panel class is removed from pandas. Accessing it from the top-level namespace will also be removed in the next version\n",
      "  from pandas import Panel\n"
     ]
    },
    {
     "data": {
      "application/vnd.jupyter.widget-view+json": {
       "model_id": "68ae76dbe35f43a49cd346fab4cac4c3",
       "version_major": 2,
       "version_minor": 0
      },
      "text/plain": [
       "HBox(children=(FloatProgress(value=0.0, max=173664.0), HTML(value='')))"
      ]
     },
     "metadata": {},
     "output_type": "display_data"
    },
    {
     "name": "stdout",
     "output_type": "stream",
     "text": [
      "\n"
     ]
    }
   ],
   "source": [
    "df = add_calendar_features(df, use_lunar=use_lunar, use_holiday=use_holiday)"
   ]
  },
  {
   "cell_type": "code",
   "execution_count": 5,
   "metadata": {},
   "outputs": [],
   "source": [
    "df, features_dict, categorical_cols, numeric_cols, target_col = prepare_data(df,\n",
    "                                                                             use_temp=use_temp, \n",
    "                                                                             use_humidity=use_humidity, \n",
    "                                                                             use_lunar=use_lunar,\n",
    "                                                                             use_holiday=use_holiday)"
   ]
  },
  {
   "cell_type": "code",
   "execution_count": 6,
   "metadata": {},
   "outputs": [],
   "source": [
    "dtype_dict = {col: df[col].dtype for col in categorical_cols + numeric_cols}"
   ]
  },
  {
   "cell_type": "code",
   "execution_count": 7,
   "metadata": {},
   "outputs": [],
   "source": [
    "categorical_unique_values_dict = {\n",
    "    'Month': list(range(1, 12 + 1)),\n",
    "    'DayOfYear': list(range(1, 365 + 1)),\n",
    "    'DayOfWeek': list(range(7)),\n",
    "    'Hour': list(range(24)),\n",
    "    'LunarMonth': list(range(1, 12 + 1)),\n",
    "    'LunarDayOfMonth': list(range(1, 30 + 1)),\n",
    "    'HolidayCat': list(range(12))\n",
    "}"
   ]
  },
  {
   "cell_type": "code",
   "execution_count": 8,
   "metadata": {},
   "outputs": [],
   "source": [
    "n_val = 100 * 24 * hour_steps # 100 days\n",
    "n_test = 100 * 24 * hour_steps # 100 days\n",
    "input_width = hour_steps\n",
    "chosen_features = (features_dict['calendar_features'] + features_dict['lag_features'] + \n",
    "                   features_dict['temperature_features'] + features_dict['humidity_features'])\n",
    "ckpt_path = 'tmp/ckpt'"
   ]
  },
  {
   "cell_type": "code",
   "execution_count": 9,
   "metadata": {
    "scrolled": true
   },
   "outputs": [
    {
     "name": "stdout",
     "output_type": "stream",
     "text": [
      "Epoch 1/10\n"
     ]
    },
    {
     "name": "stderr",
     "output_type": "stream",
     "text": [
      "F:\\Anaconda3\\envs\\new_sklearn\\lib\\site-packages\\tensorflow\\python\\keras\\engine\\functional.py:543: UserWarning: Input dict contained keys ['LogLoad'] which did not match any model input. They will be ignored by the model.\n",
      "  [n for n in tensors.keys() if n not in ref_input_names])\n"
     ]
    },
    {
     "name": "stdout",
     "output_type": "stream",
     "text": [
      "446/446 [==============================] - 123s 276ms/step - loss: 0.0205 - val_loss: 0.0201\n",
      "Epoch 2/10\n",
      "446/446 [==============================] - 116s 259ms/step - loss: 0.0109 - val_loss: 0.0212\n",
      "Epoch 3/10\n",
      "446/446 [==============================] - 102s 228ms/step - loss: 0.0089 - val_loss: 0.0207\n",
      "Epoch 4/10\n",
      "446/446 [==============================] - 94s 210ms/step - loss: 0.0077 - val_loss: 0.01971s - lo\n",
      "Epoch 5/10\n",
      "446/446 [==============================] - 93s 208ms/step - loss: 0.0072 - val_loss: 0.0199\n",
      "Epoch 6/10\n",
      "446/446 [==============================] - 94s 212ms/step - loss: 0.0067 - val_loss: 0.0214\n",
      "Epoch 7/10\n",
      "446/446 [==============================] - 94s 211ms/step - loss: 0.0064 - val_loss: 0.0207\n",
      "Epoch 8/10\n",
      "446/446 [==============================] - 93s 209ms/step - loss: 0.0061 - val_loss: 0.0200\n",
      "Epoch 9/10\n",
      "446/446 [==============================] - 93s 210ms/step - loss: 0.0059 - val_loss: 0.0211\n",
      "Epoch 10/10\n",
      "446/446 [==============================] - 94s 212ms/step - loss: 0.0057 - val_loss: 0.0207\n",
      "Validation Accuracy: 65.70%, MAPE: 1.96%\n",
      "Test Accuracy: 79.98%, MAPE: 1.31%\n"
     ]
    },
    {
     "data": {
      "text/plain": [
       "(0.01961184134283156,)"
      ]
     },
     "execution_count": 9,
     "metadata": {},
     "output_type": "execute_result"
    }
   ],
   "source": [
    "train_model(df, input_width, n_val, n_test, hour_steps,\n",
    "            dtype_dict, categorical_unique_values_dict, \n",
    "            chosen_features, categorical_cols, \n",
    "            numeric_cols, target_col, ckpt_path)"
   ]
  },
  {
   "cell_type": "markdown",
   "metadata": {},
   "source": [
    "## Inference"
   ]
  },
  {
   "cell_type": "code",
   "execution_count": 10,
   "metadata": {},
   "outputs": [],
   "source": [
    "forecast_horizon = 4"
   ]
  },
  {
   "cell_type": "code",
   "execution_count": 11,
   "metadata": {},
   "outputs": [],
   "source": [
    "df_scada2 = read_scada('data/scada/Dữ liệu SCADA Phụ tải 26.08.2020.xlsx')\n",
    "df_scada2 = get_lag_features(df_scada2, hour_steps, clip_df=True, input_width=hour_steps, forecast_horizon=forecast_horizon)"
   ]
  },
  {
   "cell_type": "code",
   "execution_count": 12,
   "metadata": {},
   "outputs": [
    {
     "data": {
      "application/vnd.jupyter.widget-view+json": {
       "model_id": "816b41c9c878410ca5e4f27598ff0b30",
       "version_major": 2,
       "version_minor": 0
      },
      "text/plain": [
       "HBox(children=(FloatProgress(value=0.0, max=15.0), HTML(value='')))"
      ]
     },
     "metadata": {},
     "output_type": "display_data"
    },
    {
     "name": "stdout",
     "output_type": "stream",
     "text": [
      "\n"
     ]
    }
   ],
   "source": [
    "df2 = merge_dataframes(df_scada2, df_temperature, df_humidity)\n",
    "df2 = add_calendar_features(df2, use_lunar=use_lunar, use_holiday=use_holiday)\n",
    "df2, features_dict, categorical_cols, numeric_cols, target_col = prepare_data(df2, train_flag=False,\n",
    "                                                                              use_temp=use_temp, \n",
    "                                                                              use_humidity=use_humidity,\n",
    "                                                                              use_lunar=use_lunar,\n",
    "                                                                              use_holiday=use_holiday)"
   ]
  },
  {
   "cell_type": "code",
   "execution_count": 13,
   "metadata": {},
   "outputs": [
    {
     "data": {
      "text/html": [
       "<div>\n",
       "<style scoped>\n",
       "    .dataframe tbody tr th:only-of-type {\n",
       "        vertical-align: middle;\n",
       "    }\n",
       "\n",
       "    .dataframe tbody tr th {\n",
       "        vertical-align: top;\n",
       "    }\n",
       "\n",
       "    .dataframe thead th {\n",
       "        text-align: right;\n",
       "    }\n",
       "</style>\n",
       "<table border=\"1\" class=\"dataframe\">\n",
       "  <thead>\n",
       "    <tr style=\"text-align: right;\">\n",
       "      <th></th>\n",
       "      <th>Forecast</th>\n",
       "    </tr>\n",
       "    <tr>\n",
       "      <th>Date</th>\n",
       "      <th></th>\n",
       "    </tr>\n",
       "  </thead>\n",
       "  <tbody>\n",
       "    <tr>\n",
       "      <th>2020-08-26 00:40:00</th>\n",
       "      <td>29139.447266</td>\n",
       "    </tr>\n",
       "    <tr>\n",
       "      <th>2020-08-26 00:45:00</th>\n",
       "      <td>29038.468750</td>\n",
       "    </tr>\n",
       "    <tr>\n",
       "      <th>2020-08-26 00:50:00</th>\n",
       "      <td>29044.976562</td>\n",
       "    </tr>\n",
       "    <tr>\n",
       "      <th>2020-08-26 00:55:00</th>\n",
       "      <td>28926.195312</td>\n",
       "    </tr>\n",
       "  </tbody>\n",
       "</table>\n",
       "</div>"
      ],
      "text/plain": [
       "                         Forecast\n",
       "Date                             \n",
       "2020-08-26 00:40:00  29139.447266\n",
       "2020-08-26 00:45:00  29038.468750\n",
       "2020-08-26 00:50:00  29044.976562\n",
       "2020-08-26 00:55:00  28926.195312"
      ]
     },
     "execution_count": 13,
     "metadata": {},
     "output_type": "execute_result"
    }
   ],
   "source": [
    "forecast_df = inference(df2, input_width, ckpt_path,\n",
    "                        dtype_dict, categorical_unique_values_dict, \n",
    "                        chosen_features, categorical_cols, numeric_cols)\n",
    "forecast_df"
   ]
  },
  {
   "cell_type": "code",
   "execution_count": 14,
   "metadata": {},
   "outputs": [
    {
     "data": {
      "text/plain": [
       "Timestamp('2020-08-25 23:55:00', freq='5T')"
      ]
     },
     "execution_count": 14,
     "metadata": {},
     "output_type": "execute_result"
    }
   ],
   "source": [
    "df.index[-1]"
   ]
  }
 ],
 "metadata": {
  "kernelspec": {
   "display_name": "Python 3",
   "language": "python",
   "name": "python3"
  },
  "language_info": {
   "codemirror_mode": {
    "name": "ipython",
    "version": 3
   },
   "file_extension": ".py",
   "mimetype": "text/x-python",
   "name": "python",
   "nbconvert_exporter": "python",
   "pygments_lexer": "ipython3",
   "version": "3.7.3"
  }
 },
 "nbformat": 4,
 "nbformat_minor": 4
}
