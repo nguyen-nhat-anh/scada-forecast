{
 "cells": [
  {
   "cell_type": "code",
   "execution_count": 1,
   "metadata": {},
   "outputs": [],
   "source": [
    "import numpy as np\n",
    "import tensorflow as tf\n",
    "\n",
    "from scada_forecast.preprocess import read_humidity, read_temperature, read_scada\n",
    "from scada_forecast.preprocess import merge_dataframes, add_calendar_features, prepare_data\n",
    "\n",
    "from scada_forecast.model import create_model, train_model, inference\n",
    "\n",
    "tf.compat.v1.logging.set_verbosity(tf.compat.v1.logging.ERROR)"
   ]
  },
  {
   "cell_type": "code",
   "execution_count": 2,
   "metadata": {},
   "outputs": [],
   "source": [
    "df_humidity = read_humidity('data/scada/DoAm.xlsx')\n",
    "df_temperature = read_temperature('data/NhietDoQuaKhu.xlsx')\n",
    "df_scada = read_scada('data/scada/Dữ liệu SCADA Phụ tải 26.08.2020.xlsx')"
   ]
  },
  {
   "cell_type": "code",
   "execution_count": 3,
   "metadata": {},
   "outputs": [],
   "source": [
    "df = merge_dataframes(df_scada, df_temperature, df_humidity)"
   ]
  },
  {
   "cell_type": "code",
   "execution_count": 5,
   "metadata": {},
   "outputs": [
    {
     "data": {
      "text/plain": [
       "Index(['Độ ẩm B.M. Thuột', 'Độ ẩm Bãi Cháy', 'Độ ẩm Bạch. L.Vĩ',\n",
       "       'Độ ẩm Cao Bằng', 'Độ ẩm Cà Mau', 'Độ ẩm Côn Đảo', 'Độ ẩm Cần Thơ',\n",
       "       'Độ ẩm Hoài Nhơn', 'Độ ẩm Huế', 'Độ ẩm Hà Giang', 'Độ ẩm Hà Tĩnh',\n",
       "       'Độ ẩm Hà Đông', 'Độ ẩm Hòa Bình', 'Độ ẩm Hồi Xuân', 'Độ ẩm Kỳ Anh',\n",
       "       'Độ ẩm Lào Cai', 'Độ ẩm Lạng Sơn', 'Độ ẩm Móng Cái', 'Độ ẩm Mường Lay',\n",
       "       'Độ ẩm Nam Định', 'Độ ẩm Nha Trang', 'Độ ẩm Nhà Bè', 'Độ ẩm Phan Rang',\n",
       "       'Độ ẩm Phan Thiết', 'Độ ẩm Phù Liễn', 'Độ ẩm Phú Quốc', 'Độ ẩm Phú Qúy',\n",
       "       'Độ ẩm Plâycu', 'Độ ẩm Q.Ngãi', 'Độ ẩm Quy Nhơn', 'Độ ẩm Rạch Gía',\n",
       "       'Độ ẩm Sơn La', 'Độ ẩm T.Quang', 'Độ ẩm Tam Đường', 'Độ ẩm Thanh Hóa',\n",
       "       'Độ ẩm Tiên Yên', 'Độ ẩm Trường Sa', 'Độ ẩm Tuy Hòa', 'Độ ẩm Vinh',\n",
       "       'Độ ẩm Vũng Tàu', 'Độ ẩm Điện Biên', 'Độ ẩm Đà Nẵng', 'Độ ẩm Đồng Hới',\n",
       "       'Nhiệt độ Tam Đường', 'Nhiệt độ Mường Lay(Lai Châu)',\n",
       "       'Nhiệt độ Điện Biên', 'Nhiệt độ Sơn La', 'Nhiệt độ Hòa Bình',\n",
       "       'Nhiệt độ Lào Cai', 'Nhiệt độ Hà Giang', 'Nhiệt độ T.Quang',\n",
       "       'Nhiệt độ Cao Bằng', 'Nhiệt độ Lạng Sơn', 'Nhiệt độ Móng Cái',\n",
       "       'Nhiệt độ Tiên Yên', 'Nhiệt độ Bãi Cháy', 'Nhiệt độ Phù Liễn',\n",
       "       'Nhiệt độ Hà Đông', 'Nhiệt độ Nam Định', 'Nhiệt độ Hồi Xuân',\n",
       "       'Nhiệt độ Thanh Hóa', 'Nhiệt độ Vinh', 'Nhiệt độ Hà Tĩnh',\n",
       "       'Nhiệt độ Kỳ Anh', 'Nhiệt độ Đồng Hới', 'Nhiệt độ Huế',\n",
       "       'Nhiệt độ Đà Nẵng', 'Nhiệt độ Q.Ngãi', 'Nhiệt độ Hoài Nhơn',\n",
       "       'Nhiệt độ Quy Nhơn', 'Nhiệt độ Tuy Hòa', 'Nhiệt độ Nha Trang',\n",
       "       'Nhiệt độ Phan Rang', 'Nhiệt độ Phan Thiết', 'Nhiệt độ Plâycu',\n",
       "       'Nhiệt độ B.M. Thuột', 'Nhiệt độ Tân.S. Nhất', 'Nhiệt độ Vũng Tàu',\n",
       "       'Nhiệt độ Cần Thơ', 'Nhiệt độ Rạch Gía', 'Nhiệt độ Cà Mau', 'Load'],\n",
       "      dtype='object')"
      ]
     },
     "execution_count": 5,
     "metadata": {},
     "output_type": "execute_result"
    }
   ],
   "source": [
    "df.columns"
   ]
  },
  {
   "cell_type": "code",
   "execution_count": null,
   "metadata": {},
   "outputs": [],
   "source": [
    "df = add_calendar_features(df, use_lunar=True, use_holiday=False)"
   ]
  },
  {
   "cell_type": "code",
   "execution_count": null,
   "metadata": {},
   "outputs": [],
   "source": [
    "hour_steps = int(60 / 5)\n",
    "df, features_dict, categorical_cols, numeric_cols, target_col = prepare_data(df, \n",
    "                                                                             hour_steps=hour_steps, \n",
    "                                                                             use_temp=True, \n",
    "                                                                             use_humidity=True, \n",
    "                                                                             use_lunar=True,\n",
    "                                                                             use_holiday=False)"
   ]
  },
  {
   "cell_type": "code",
   "execution_count": null,
   "metadata": {},
   "outputs": [],
   "source": [
    "dtype_dict = {col: df[col].dtype for col in categorical_cols + numeric_cols}"
   ]
  },
  {
   "cell_type": "code",
   "execution_count": null,
   "metadata": {},
   "outputs": [],
   "source": [
    "categorical_unique_values_dict = {\n",
    "    'Month': list(range(1, 12 + 1)),\n",
    "    'DayOfYear': list(range(1, 365 + 1)),\n",
    "    'DayOfWeek': list(range(7)),\n",
    "    'Hour': list(range(24)),\n",
    "    'LunarMonth': list(range(1, 12 + 1)),\n",
    "    'LunarDayOfMonth': list(range(1, 30 + 1)),\n",
    "    'HolidayCat': list(range(12))\n",
    "}"
   ]
  },
  {
   "cell_type": "code",
   "execution_count": null,
   "metadata": {},
   "outputs": [],
   "source": [
    "n_val = 100 * 24 * hour_steps # 100 days\n",
    "n_test = 100 * 24 * hour_steps # 100 days\n",
    "input_width = hour_steps\n",
    "chosen_features = (features_dict['calendar_features'] + features_dict['lag_features'] + \n",
    "                   features_dict['temperature_features'] + features_dict['humidity_features'])\n",
    "ckpt_path = 'tmp/ckpt'"
   ]
  },
  {
   "cell_type": "code",
   "execution_count": null,
   "metadata": {},
   "outputs": [],
   "source": [
    "train_model(df, input_width, n_val, n_test, hour_steps,\n",
    "            dtype_dict, categorical_unique_values_dict, \n",
    "            chosen_features, categorical_cols, \n",
    "            numeric_cols, target_col, ckpt_path)"
   ]
  },
  {
   "cell_type": "code",
   "execution_count": null,
   "metadata": {},
   "outputs": [],
   "source": [
    "forecast_df = inference(df, input_width, n_test, hour_steps, ckpt_path,\n",
    "                        dtype_dict, categorical_unique_values_dict, \n",
    "                        chosen_features, categorical_cols, numeric_cols, target_col)"
   ]
  }
 ],
 "metadata": {
  "kernelspec": {
   "display_name": "Python 3",
   "language": "python",
   "name": "python3"
  },
  "language_info": {
   "codemirror_mode": {
    "name": "ipython",
    "version": 3
   },
   "file_extension": ".py",
   "mimetype": "text/x-python",
   "name": "python",
   "nbconvert_exporter": "python",
   "pygments_lexer": "ipython3",
   "version": "3.7.3"
  }
 },
 "nbformat": 4,
 "nbformat_minor": 4
}
